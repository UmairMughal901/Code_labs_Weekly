{
 "cells": [
  {
   "cell_type": "markdown",
   "metadata": {},
   "source": [
    "# Databases and SQL for Data Science with Python - Peer Assignemnt"
   ]
  },
  {
   "cell_type": "markdown",
   "metadata": {},
   "source": [
    "## Instruction about assignment\n",
    "You have been hired by an organization that strives to <font color=red style=\"bold\">improve educational outcomes for children and young people in Chicago</font>. \n",
    "Your job is to analyze the \n",
    "census, \n",
    "crime, and \n",
    "school data for a given neighborhood or district. \n",
    "You will identify causes that impact the enrollment, safety, health, environment ratings of schools.\n",
    "\n",
    "You will be required to answer questions similar to what a real life data analyst or data scientist would be tasked with. You will be assessed both on the correctness of your SQL queries and results. \n",
    "\n",
    "A Jupyter notebook is provided to help you complete this assignment. Follow the instructions to complete all the problems, then share the Queries and Results with your peers for review."
   ]
  },
  {
   "cell_type": "code",
   "execution_count": 1,
   "metadata": {},
   "outputs": [
    {
     "name": "stdout",
     "output_type": "stream",
     "text": [
      "Searching for ibm_db\n",
      "Best match: ibm-db 3.0.4\n",
      "Processing ibm_db-3.0.4-py3.8.egg\n",
      "ibm-db 3.0.4 is already the active version in easy-install.pth\n",
      "\n",
      "Using c:\\users\\umair\\anaconda3\\lib\\site-packages\\ibm_db-3.0.4-py3.8.egg\n"
     ]
    },
    {
     "name": "stderr",
     "output_type": "stream",
     "text": [
      "WARNING: The easy_install command is deprecated and will be removed in a future version.\n"
     ]
    },
    {
     "name": "stdout",
     "output_type": "stream",
     "text": [
      "Processing dependencies for ibm_db\n",
      "Finished processing dependencies for ibm_db\n"
     ]
    }
   ],
   "source": [
    "#Instal ibm_db \n",
    "# Getting access to Db2 data from within a notebook requires that you use the following command to install the appropriate Db2 drivers either from your notebook or from a shell prompt.\n",
    "!easy_install ibm_db"
   ]
  },
  {
   "cell_type": "code",
   "execution_count": 3,
   "metadata": {},
   "outputs": [],
   "source": [
    "##Once you have the Db2 drivers installed, you need to import the ibm_db libraries into your notebook.\n",
    "import ibm_db\n",
    "import ibm_db_dbi"
   ]
  },
  {
   "cell_type": "code",
   "execution_count": null,
   "metadata": {},
   "outputs": [],
   "source": []
  },
  {
   "cell_type": "code",
   "execution_count": null,
   "metadata": {},
   "outputs": [],
   "source": []
  }
 ],
 "metadata": {
  "kernelspec": {
   "display_name": "Python 3",
   "language": "python",
   "name": "python3"
  },
  "language_info": {
   "codemirror_mode": {
    "name": "ipython",
    "version": 3
   },
   "file_extension": ".py",
   "mimetype": "text/x-python",
   "name": "python",
   "nbconvert_exporter": "python",
   "pygments_lexer": "ipython3",
   "version": "3.8.5"
  }
 },
 "nbformat": 4,
 "nbformat_minor": 4
}
